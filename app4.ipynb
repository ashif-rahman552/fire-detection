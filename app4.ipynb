{
 "cells": [
  {
   "cell_type": "code",
   "execution_count": 1,
   "id": "61230bb5-e1f5-44bf-8de0-7cfdcabd6603",
   "metadata": {},
   "outputs": [
    {
     "name": "stderr",
     "output_type": "stream",
     "text": [
      "2025-05-08 20:00:48.325 \n",
      "  \u001b[33m\u001b[1mWarning:\u001b[0m to view this Streamlit app on a browser, run it with the following\n",
      "  command:\n",
      "\n",
      "    streamlit run C:\\Users\\vyvid\\anaconda3\\Lib\\site-packages\\ipykernel_launcher.py [ARGUMENTS]\n"
     ]
    },
    {
     "ename": "SyntaxError",
     "evalue": "'break' outside loop (1397742926.py, line 71)",
     "output_type": "error",
     "traceback": [
      "\u001b[1;36m  Cell \u001b[1;32mIn[1], line 71\u001b[1;36m\u001b[0m\n\u001b[1;33m    break\u001b[0m\n\u001b[1;37m    ^\u001b[0m\n\u001b[1;31mSyntaxError\u001b[0m\u001b[1;31m:\u001b[0m 'break' outside loop\n"
     ]
    }
   ],
   "source": [
    "import cv2\n",
    "import numpy as np\n",
    "import streamlit as st\n",
    "import matplotlib.pyplot as plt\n",
    "\n",
    "# Set page title and layout\n",
    "st.set_page_config(page_title=\"🔥 Fire and Smoke Detection\", layout=\"centered\")\n",
    "st.title(\"🔥 Fire and Smoke Detection via Webcam\")\n",
    "st.markdown(\"This app detects fire and smoke in real-time using your webcam.\")\n",
    "\n",
    "# Initialize webcam feed\n",
    "cap = cv2.VideoCapture(0)\n",
    "\n",
    "# Fire detection: color range for red, orange, yellow\n",
    "lower_fire = np.array([5, 50, 50])  # lower bound for fire color\n",
    "upper_fire = np.array([15, 255, 255])  # upper bound for fire color\n",
    "\n",
    "# Function to detect fire and smoke in a frame\n",
    "def detect_fire_smoke(frame):\n",
    "    # Convert frame to HSV (for fire color detection)\n",
    "    hsv = cv2.cvtColor(frame, cv2.COLOR_BGR2HSV)\n",
    "    \n",
    "    # Mask to detect fire colors\n",
    "    mask_fire = cv2.inRange(hsv, lower_fire, upper_fire)\n",
    "    \n",
    "    # Detect contours for fire regions\n",
    "    contours, _ = cv2.findContours(mask_fire, cv2.RETR_TREE, cv2.CHAIN_APPROX_SIMPLE)\n",
    "    for contour in contours:\n",
    "        if cv2.contourArea(contour) > 1000:  # Filter small noise\n",
    "            x, y, w, h = cv2.boundingRect(contour)\n",
    "            cv2.rectangle(frame, (x, y), (x + w, y + h), (0, 0, 255), 3)\n",
    "\n",
    "    # Smoke detection using grayscale and edge detection (Canny)\n",
    "    gray = cv2.cvtColor(frame, cv2.COLOR_BGR2GRAY)\n",
    "    edges = cv2.Canny(gray, 100, 200)\n",
    "\n",
    "    # Detect smoke areas using contours\n",
    "    contours_smoke, _ = cv2.findContours(edges, cv2.RETR_TREE, cv2.CHAIN_APPROX_SIMPLE)\n",
    "    for contour in contours_smoke:\n",
    "        if cv2.contourArea(contour) > 500:  # Filter small areas of smoke\n",
    "            x, y, w, h = cv2.boundingRect(contour)\n",
    "            cv2.rectangle(frame, (x, y), (x + w, y + h), (255, 0, 0), 3)\n",
    "\n",
    "    return frame\n",
    "\n",
    "# Streamlit controls\n",
    "run_webcam = st.checkbox(\"Start Webcam\", value=False)\n",
    "frame_window = st.empty()\n",
    "\n",
    "if run_webcam:\n",
    "    st.warning(\"Press 'Stop Webcam' to end.\")\n",
    "    \n",
    "    while run_webcam:\n",
    "        ret, frame = cap.read()\n",
    "        if not ret:\n",
    "            st.error(\"Failed to grab frame from webcam.\")\n",
    "            break\n",
    "\n",
    "        # Detect fire and smoke in the frame\n",
    "        processed_frame = detect_fire_smoke(frame)\n",
    "        \n",
    "        # Convert the frame to RGB and display in Streamlit\n",
    "        rgb_frame = cv2.cvtColor(processed_frame, cv2.COLOR_BGR2RGB)\n",
    "        frame_window.image(rgb_frame)\n",
    "\n",
    "    # Stop button\n",
    "    stop_button = st.button(\"Stop Webcam\")\n",
    "    if stop_button:\n",
    "        cap.release()\n",
    "        st.success(\"Webcam stopped.\")\n",
    "        break\n",
    "\n",
    "else:\n",
    "    st.info(\"Turn on the webcam to detect fire and smoke.\")\n",
    "    \n",
    "cap.release()\n",
    "cv2.destroyAllWindows()\n"
   ]
  },
  {
   "cell_type": "code",
   "execution_count": null,
   "id": "a5632ddf-5c9b-468b-93cb-7ffe54058df1",
   "metadata": {},
   "outputs": [],
   "source": []
  }
 ],
 "metadata": {
  "kernelspec": {
   "display_name": "Python 3 (ipykernel)",
   "language": "python",
   "name": "python3"
  },
  "language_info": {
   "codemirror_mode": {
    "name": "ipython",
    "version": 3
   },
   "file_extension": ".py",
   "mimetype": "text/x-python",
   "name": "python",
   "nbconvert_exporter": "python",
   "pygments_lexer": "ipython3",
   "version": "3.12.7"
  }
 },
 "nbformat": 4,
 "nbformat_minor": 5
}
